{
 "cells": [
  {
   "cell_type": "code",
   "execution_count": 1,
   "metadata": {},
   "outputs": [],
   "source": [
    "%matplotlib inline\n",
    "\n",
    "import numpy as np\n",
    "import matplotlib.pyplot as plt"
   ]
  },
  {
   "cell_type": "code",
   "execution_count": 2,
   "metadata": {},
   "outputs": [],
   "source": [
    "T = 2*np.pi"
   ]
  },
  {
   "cell_type": "code",
   "execution_count": 3,
   "metadata": {},
   "outputs": [],
   "source": [
    "sample = np.array([14, 18.7, 9, 4.1, 6.7, 6, 6.3, 8.4, 4, 2.9])"
   ]
  },
  {
   "cell_type": "code",
   "execution_count": 4,
   "metadata": {},
   "outputs": [],
   "source": [
    "k = len(sample)"
   ]
  },
  {
   "cell_type": "code",
   "execution_count": 6,
   "metadata": {},
   "outputs": [],
   "source": [
    "Δx = T/k"
   ]
  },
  {
   "cell_type": "code",
   "execution_count": 8,
   "metadata": {},
   "outputs": [
    {
     "data": {
      "text/plain": [
       "0.6283185307179586"
      ]
     },
     "execution_count": 8,
     "metadata": {},
     "output_type": "execute_result"
    }
   ],
   "source": [
    "Δx"
   ]
  },
  {
   "cell_type": "code",
   "execution_count": 11,
   "metadata": {},
   "outputs": [],
   "source": [
    "a0 = (Δx*sample).sum() / T"
   ]
  },
  {
   "cell_type": "code",
   "execution_count": 13,
   "metadata": {},
   "outputs": [
    {
     "data": {
      "text/plain": [
       "8.01"
      ]
     },
     "execution_count": 13,
     "metadata": {},
     "output_type": "execute_result"
    }
   ],
   "source": [
    "a0"
   ]
  },
  {
   "cell_type": "code",
   "execution_count": 14,
   "metadata": {},
   "outputs": [],
   "source": [
    "m = 3"
   ]
  },
  {
   "cell_type": "code",
   "execution_count": 38,
   "metadata": {},
   "outputs": [],
   "source": [
    "iΔx = np.arange(10)*Δx"
   ]
  },
  {
   "cell_type": "code",
   "execution_count": 39,
   "metadata": {},
   "outputs": [
    {
     "data": {
      "text/plain": [
       "array([0.        , 0.62831853, 1.25663706, 1.88495559, 2.51327412,\n",
       "       3.14159265, 3.76991118, 4.39822972, 5.02654825, 5.65486678])"
      ]
     },
     "execution_count": 39,
     "metadata": {},
     "output_type": "execute_result"
    }
   ],
   "source": [
    "iΔx"
   ]
  },
  {
   "cell_type": "code",
   "execution_count": 26,
   "metadata": {},
   "outputs": [
    {
     "data": {
      "text/plain": [
       "array([ 0.        ,  0.14112001, -0.2794155 ,  0.41211849, -0.53657292,\n",
       "        0.65028784, -0.75098725,  0.83665564, -0.90557836,  0.95637593])"
      ]
     },
     "execution_count": 26,
     "metadata": {},
     "output_type": "execute_result"
    }
   ],
   "source": [
    "np.sin(m*iΔx)"
   ]
  },
  {
   "cell_type": "code",
   "execution_count": 27,
   "metadata": {},
   "outputs": [
    {
     "data": {
      "text/plain": [
       "array([14. , 18.7,  9. ,  4.1,  6.7,  6. ,  6.3,  8.4,  4. ,  2.9])"
      ]
     },
     "execution_count": 27,
     "metadata": {},
     "output_type": "execute_result"
    }
   ],
   "source": [
    "sample"
   ]
  },
  {
   "cell_type": "code",
   "execution_count": 29,
   "metadata": {},
   "outputs": [
    {
     "data": {
      "text/plain": [
       "array([ 0.        ,  1.65809751, -1.58005742,  1.06166089, -2.25882934,\n",
       "        2.4515274 , -2.97271298,  4.41576443, -2.27596666,  1.74263528])"
      ]
     },
     "execution_count": 29,
     "metadata": {},
     "output_type": "execute_result"
    }
   ],
   "source": [
    "sample*np.sin(m*iΔx)*Δx"
   ]
  },
  {
   "cell_type": "code",
   "execution_count": 30,
   "metadata": {},
   "outputs": [],
   "source": [
    "a1 = np.array([1,2,3,4])"
   ]
  },
  {
   "cell_type": "code",
   "execution_count": 32,
   "metadata": {},
   "outputs": [],
   "source": [
    "a2 = np.array([[0,1,2,3],[0,2,4,6],[0,3,6,9]])"
   ]
  },
  {
   "cell_type": "code",
   "execution_count": 35,
   "metadata": {},
   "outputs": [
    {
     "data": {
      "text/plain": [
       "array([[ 0,  2,  6, 12],\n",
       "       [ 0,  4, 12, 24],\n",
       "       [ 0,  6, 18, 36]])"
      ]
     },
     "execution_count": 35,
     "metadata": {},
     "output_type": "execute_result"
    }
   ],
   "source": [
    "a1*a2"
   ]
  },
  {
   "cell_type": "code",
   "execution_count": 36,
   "metadata": {},
   "outputs": [
    {
     "data": {
      "text/plain": [
       "array([20, 40, 60])"
      ]
     },
     "execution_count": 36,
     "metadata": {},
     "output_type": "execute_result"
    }
   ],
   "source": [
    "(a1*a2).sum(axis=1)"
   ]
  },
  {
   "cell_type": "code",
   "execution_count": 40,
   "metadata": {},
   "outputs": [
    {
     "data": {
      "text/plain": [
       "array([0.        , 0.62831853, 1.25663706, 1.88495559, 2.51327412,\n",
       "       3.14159265, 3.76991118, 4.39822972, 5.02654825, 5.65486678])"
      ]
     },
     "execution_count": 40,
     "metadata": {},
     "output_type": "execute_result"
    }
   ],
   "source": [
    "iΔx"
   ]
  },
  {
   "cell_type": "code",
   "execution_count": 43,
   "metadata": {},
   "outputs": [],
   "source": [
    "n = 5"
   ]
  },
  {
   "cell_type": "code",
   "execution_count": 50,
   "metadata": {},
   "outputs": [
    {
     "data": {
      "text/plain": [
       "array([2.03757213e+00, 4.02253464e+00, 2.99913318e+00, 4.14134568e-02,\n",
       "       7.66628896e-16])"
      ]
     },
     "execution_count": 50,
     "metadata": {},
     "output_type": "execute_result"
    }
   ],
   "source": [
    "(sample*np.sin(np.arange(1,n+1).reshape(n,1)*iΔx)*Δx).sum(axis=1)/np.pi"
   ]
  },
  {
   "cell_type": "code",
   "execution_count": 51,
   "metadata": {},
   "outputs": [],
   "source": [
    "def fourier(arr, n=5):\n",
    "    m = len(arr)\n",
    "    Δx = T/m\n",
    "    a0 = (arr*Δx).sum()/T\n",
    "    iΔx = np.arange(m)*Δx\n",
    "    niΔx = np.arange(1,n+1).reshape(n,1)@iΔx.reshape(1,m)\n",
    "    area_a = (arr*np.sin(niΔx)*Δx).sum(axis=1)\n",
    "    aseq = area_a/np.pi\n",
    "    # b_n\n",
    "    area_b = (arr*np.cos(niΔx)*Δx).sum(axis=1)\n",
    "    bseq = area_b/np.pi\n",
    "    return a0, aseq, bseq "
   ]
  },
  {
   "cell_type": "code",
   "execution_count": 52,
   "metadata": {},
   "outputs": [],
   "source": [
    "def fser(a0, aseq, bseq, tarr):\n",
    "    n = len(aseq)\n",
    "    # 1t, 2t, ..., nt\n",
    "    n_tarr = tarr * np.arange(1,n+1).reshape(n,1)\n",
    "    sin_arr = np.sin(n_tarr)\n",
    "    cos_arr = np.cos(n_tarr)\n",
    "    f_sin = aseq@sin_arr\n",
    "    f_cos = bseq@cos_arr\n",
    "    f_values = a0 + f_sin + f_cos\n",
    "    return f_values"
   ]
  },
  {
   "cell_type": "code",
   "execution_count": 53,
   "metadata": {},
   "outputs": [
    {
     "data": {
      "text/plain": [
       "array([14. , 18.7,  9. ,  4.1,  6.7,  6. ,  6.3,  8.4,  4. ,  2.9])"
      ]
     },
     "execution_count": 53,
     "metadata": {},
     "output_type": "execute_result"
    }
   ],
   "source": [
    "sample"
   ]
  },
  {
   "cell_type": "code",
   "execution_count": 54,
   "metadata": {},
   "outputs": [],
   "source": [
    "t = np.linspace(0, 2*np.pi, 1000)"
   ]
  },
  {
   "cell_type": "code",
   "execution_count": 55,
   "metadata": {},
   "outputs": [],
   "source": [
    "def my_fourier(n):\n",
    "    a0, aseq, bseq = fourier(sample, n)\n",
    "    fy = fser(a0, aseq, bseq, t)\n",
    "    plt.plot(t, fy)"
   ]
  },
  {
   "cell_type": "code",
   "execution_count": 58,
   "metadata": {},
   "outputs": [],
   "source": [
    "from ipywidgets import interact"
   ]
  },
  {
   "cell_type": "code",
   "execution_count": 59,
   "metadata": {},
   "outputs": [
    {
     "data": {
      "application/vnd.jupyter.widget-view+json": {
       "model_id": "e898ed86f9dd4b3cbd9c9122a89d309f",
       "version_major": 2,
       "version_minor": 0
      },
      "text/plain": [
       "interactive(children=(IntSlider(value=10, description='n', max=20, min=1), Output()), _dom_classes=('widget-in…"
      ]
     },
     "metadata": {},
     "output_type": "display_data"
    },
    {
     "data": {
      "text/plain": [
       "<function __main__.my_fourier(n)>"
      ]
     },
     "execution_count": 59,
     "metadata": {},
     "output_type": "execute_result"
    }
   ],
   "source": [
    "interact(my_fourier, n=(1,20))"
   ]
  },
  {
   "cell_type": "code",
   "execution_count": 60,
   "metadata": {},
   "outputs": [],
   "source": [
    "rabbit = np.array([(-7.42457267835285, 1.06693233868844), (-5.00000000000000, 0.00000000000000), (-3.16072913905914, -0.117468644448697), (-1.26568756603972, -0.828109234330977), (0.550393941437221, -1.30186962758583), (2.44543551445664, -1.93355015192563), (4.73527741518845, -1.45978975867078), (6.15655859495301, -0.196428709991172), (7.34095957809015, -0.512268972161075), (9.15704108556709, 1.22485246977339), (10.2624820031617, 3.43573430496270), (11.6048031173838, 5.64661614015203), (11.4468829862989, 7.14685738545906), (10.1835219376193, 7.46269764762896), (9.47288134773700, 6.43621679557678), (8.76224075785471, 5.40973594352460), (7.97264010242995, 4.14637489484498), (6.94615925037777, 2.96197391170785), (6.23551866049549, 4.46221515701489), (5.76175826724063, 6.19933659894935), (5.28799787398578, 7.77853790979886), (4.73527741518845, 9.19981908956342), (5.36695793952825, 12.0423814490925), (5.00000000000000, 15.0000000000000), (3.86671669422120, 17.3327058404384), (2.20855531782921, 17.2537457748959), (0.787274138064648, 16.3851850539287), (0.629354006979697, 14.9639038741641), (0.313513744809792, 12.9899022356022), (0.234553679267317, 11.6475811213802), (0.00000000000000, 10.0000000000000), (-0.791927172784870, 8.88397882739352), (-1.58152782820963, 9.91045967944570), (-1.18672750049725, 12.8319821045173), (-0.949847303869821, 15.0428639397066), (-1.73944795929458, 16.7010253160986), (-3.08176907351667, 17.4906259715233), (-4.66097038436618, 17.6485461026083), (-5.68745123641838, 16.3062249883862), (-6.24017169521571, 14.3322233498243), (-6.31913176075819, 12.5951019078899), (-6.47705189184314, 10.6211002693280), (-6.87185221955552, 8.80501876185105), (-7.26665254726789, 7.22581745100154), (-7.50353274389532, 5.72557620569450), (-7.66145287498027, 4.14637489484498), (-7.58249280943780, 2.88301384616537)])"
   ]
  },
  {
   "cell_type": "code",
   "execution_count": 61,
   "metadata": {},
   "outputs": [],
   "source": [
    "x = rabbit[:,0]\n",
    "y = rabbit[:,1]"
   ]
  },
  {
   "cell_type": "code",
   "execution_count": 65,
   "metadata": {},
   "outputs": [],
   "source": [
    "xa0, xaseq, xbseq = fourier(x, n=20)\n",
    "ya0, yaseq, ybseq = fourier(y, n=20)"
   ]
  },
  {
   "cell_type": "code",
   "execution_count": 66,
   "metadata": {},
   "outputs": [],
   "source": [
    "fx = fser(xa0, xaseq, xbseq, t)\n",
    "fy = fser(ya0, yaseq, ybseq, t)"
   ]
  },
  {
   "cell_type": "code",
   "execution_count": 67,
   "metadata": {},
   "outputs": [
    {
     "data": {
      "text/plain": [
       "[<matplotlib.lines.Line2D at 0x11539b4e0>]"
      ]
     },
     "execution_count": 67,
     "metadata": {},
     "output_type": "execute_result"
    },
    {
     "data": {
      "image/png": "[encoded data removed]",
      "text/plain": [
       "<Figure size 432x288 with 1 Axes>"
      ]
     },
     "metadata": {},
     "output_type": "display_data"
    }
   ],
   "source": [
    "plt.plot(fx,fy)"
   ]
  },
  {
   "cell_type": "code",
   "execution_count": null,
   "metadata": {},
   "outputs": [],
   "source": []
  }
 ],
 "metadata": {
  "kernelspec": {
   "display_name": "Python 3",
   "language": "python",
   "name": "python3"
  },
  "language_info": {
   "codemirror_mode": {
    "name": "ipython",
    "version": 3
   },
   "file_extension": ".py",
   "mimetype": "text/x-python",
   "name": "python",
   "nbconvert_exporter": "python",
   "pygments_lexer": "ipython3",
   "version": "3.6.5"
  }
 },
 "nbformat": 4,
 "nbformat_minor": 2
}
