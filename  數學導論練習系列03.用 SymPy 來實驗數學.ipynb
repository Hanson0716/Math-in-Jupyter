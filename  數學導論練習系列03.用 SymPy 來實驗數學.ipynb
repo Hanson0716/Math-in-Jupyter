{
 "cells": [
  {
   "cell_type": "markdown",
   "metadata": {},
   "source": [
    "## 讀入基本套件"
   ]
  },
  {
   "cell_type": "code",
   "execution_count": 1,
   "metadata": {},
   "outputs": [],
   "source": [
    "%matplotlib inline\n",
    "\n",
    "import numpy as np\n",
    "import matplotlib.pyplot as plt\n",
    "import sympy as sym"
   ]
  },
  {
   "cell_type": "markdown",
   "metadata": {},
   "source": [
    "## SymPy 就像我們一般算數學一樣!"
   ]
  },
  {
   "cell_type": "code",
   "execution_count": 2,
   "metadata": {},
   "outputs": [
    {
     "data": {
      "text/plain": [
       "0.8333333333333333"
      ]
     },
     "execution_count": 2,
     "metadata": {},
     "output_type": "execute_result"
    }
   ],
   "source": [
    "1/2 + 1/3"
   ]
  },
  {
   "cell_type": "code",
   "execution_count": 3,
   "metadata": {},
   "outputs": [
    {
     "data": {
      "text/plain": [
       "5/6"
      ]
     },
     "execution_count": 3,
     "metadata": {},
     "output_type": "execute_result"
    }
   ],
   "source": [
    "sym.S(1)/2 + sym.S(1)/3"
   ]
  },
  {
   "cell_type": "code",
   "execution_count": 4,
   "metadata": {},
   "outputs": [],
   "source": [
    "A = sym.Matrix([[1,2],[3,4]])"
   ]
  },
  {
   "cell_type": "code",
   "execution_count": 6,
   "metadata": {},
   "outputs": [
    {
     "data": {
      "text/plain": [
       "Matrix([\n",
       "[ -2,    1],\n",
       "[3/2, -1/2]])"
      ]
     },
     "execution_count": 6,
     "metadata": {},
     "output_type": "execute_result"
    }
   ],
   "source": [
    "A**(-1)"
   ]
  },
  {
   "cell_type": "markdown",
   "metadata": {},
   "source": [
    "但這樣表示矩陣有點醜..."
   ]
  },
  {
   "cell_type": "code",
   "execution_count": 7,
   "metadata": {},
   "outputs": [],
   "source": [
    "sym.init_printing()"
   ]
  },
  {
   "cell_type": "code",
   "execution_count": 8,
   "metadata": {},
   "outputs": [
    {
     "data": {
      "image/png": "[encoded data removed]",
      "text/latex": [
       "$$\\left[\\begin{matrix}-2 & 1\\\\\\frac{3}{2} & - \\frac{1}{2}\\end{matrix}\\right]$$"
      ],
      "text/plain": [
       "⎡-2    1  ⎤\n",
       "⎢         ⎥\n",
       "⎣3/2  -1/2⎦"
      ]
     },
     "execution_count": 8,
     "metadata": {},
     "output_type": "execute_result"
    }
   ],
   "source": [
    "A**(-1)"
   ]
  },
  {
   "cell_type": "markdown",
   "metadata": {},
   "source": [
    "## 基本的微積分\n",
    "\n",
    "每個函數 $f(x)$, 我們的夢想是在 $y=f(x)$ 圖形上每一個點 $(x, f(x))$ 附近都長得很像一條直線! 這條直線我們很早就知道是切線, 更厲害的是, 微積分會教我們公式, 只要原本函數的式子我們寫得出來, 切線斜率斜率公式就可以寫出來, 這動作就叫微分!!\n",
    "\n",
    "現在我們先把 $x$ 定成一個變數。"
   ]
  },
  {
   "cell_type": "markdown",
   "metadata": {},
   "source": [
    "### 微分"
   ]
  },
  {
   "cell_type": "code",
   "execution_count": 9,
   "metadata": {},
   "outputs": [],
   "source": [
    "x = sym.symbols('x')"
   ]
  },
  {
   "cell_type": "code",
   "execution_count": 10,
   "metadata": {},
   "outputs": [
    {
     "data": {
      "image/png": "[encoded data removed]",
      "text/latex": [
       "$$x^{2}$$"
      ],
      "text/plain": [
       " 2\n",
       "x "
      ]
     },
     "execution_count": 10,
     "metadata": {},
     "output_type": "execute_result"
    }
   ],
   "source": [
    "x**2"
   ]
  },
  {
   "cell_type": "code",
   "execution_count": 11,
   "metadata": {},
   "outputs": [],
   "source": [
    "f = x**2"
   ]
  },
  {
   "cell_type": "code",
   "execution_count": 12,
   "metadata": {},
   "outputs": [
    {
     "data": {
      "image/png": "[encoded data removed]",
      "text/latex": [
       "$$2 x$$"
      ],
      "text/plain": [
       "2⋅x"
      ]
     },
     "execution_count": 12,
     "metadata": {},
     "output_type": "execute_result"
    }
   ],
   "source": [
    "sym.diff(f)"
   ]
  },
  {
   "cell_type": "markdown",
   "metadata": {},
   "source": [
    "我們也可以更明確的說\n",
    "\n",
    "    diff(f, x)"
   ]
  },
  {
   "cell_type": "code",
   "execution_count": 14,
   "metadata": {},
   "outputs": [
    {
     "data": {
      "image/png": "[encoded data removed]",
      "text/latex": [
       "$$2 x$$"
      ],
      "text/plain": [
       "2⋅x"
      ]
     },
     "execution_count": 14,
     "metadata": {},
     "output_type": "execute_result"
    }
   ],
   "source": [
    "sym.diff(f, x)"
   ]
  },
  {
   "cell_type": "markdown",
   "metadata": {},
   "source": [
    "這當然有作用, 例如我們要算更一般的公式時...\n",
    "\n",
    "(這邊介紹另一個超令人喜愛的設 SymPy 使用變數的方法)"
   ]
  },
  {
   "cell_type": "code",
   "execution_count": 15,
   "metadata": {},
   "outputs": [],
   "source": [
    "from sympy.abc import a, b, c"
   ]
  },
  {
   "cell_type": "code",
   "execution_count": 16,
   "metadata": {},
   "outputs": [],
   "source": [
    "f = a + b*x + c*x**2"
   ]
  },
  {
   "cell_type": "code",
   "execution_count": 18,
   "metadata": {},
   "outputs": [
    {
     "data": {
      "image/png": "[encoded data removed]",
      "text/latex": [
       "$$b + 2 c x$$"
      ],
      "text/plain": [
       "b + 2⋅c⋅x"
      ]
     },
     "execution_count": 18,
     "metadata": {},
     "output_type": "execute_result"
    }
   ],
   "source": [
    "sym.diff(f, x)"
   ]
  },
  {
   "cell_type": "markdown",
   "metadata": {},
   "source": [
    "### 積分\n",
    "\n",
    "積分其實也一樣容易!"
   ]
  },
  {
   "cell_type": "code",
   "execution_count": 19,
   "metadata": {},
   "outputs": [
    {
     "data": {
      "image/png": "[encoded data removed]",
      "text/latex": [
       "$$a x + \\frac{b x^{2}}{2} + \\frac{c x^{3}}{3}$$"
      ],
      "text/plain": [
       "         2      3\n",
       "      b⋅x    c⋅x \n",
       "a⋅x + ──── + ────\n",
       "       2      3  "
      ]
     },
     "execution_count": 19,
     "metadata": {},
     "output_type": "execute_result"
    }
   ],
   "source": [
    "sym.integrate(f, x)"
   ]
  },
  {
   "cell_type": "markdown",
   "metadata": {},
   "source": [
    "當然可以算定積分!"
   ]
  },
  {
   "cell_type": "code",
   "execution_count": 22,
   "metadata": {},
   "outputs": [
    {
     "data": {
      "image/png": "[encoded data removed]",
      "text/latex": [
       "$$\\log{\\left (a \\right )}$$"
      ],
      "text/plain": [
       "log(a)"
      ]
     },
     "execution_count": 22,
     "metadata": {},
     "output_type": "execute_result"
    }
   ],
   "source": [
    "sym.integrate(1/x, (x,1,a))"
   ]
  },
  {
   "cell_type": "markdown",
   "metadata": {},
   "source": [
    "### 極限"
   ]
  },
  {
   "cell_type": "code",
   "execution_count": 23,
   "metadata": {},
   "outputs": [
    {
     "data": {
      "image/png": "[encoded data removed]",
      "text/latex": [
       "$$1$$"
      ],
      "text/plain": [
       "1"
      ]
     },
     "execution_count": 23,
     "metadata": {},
     "output_type": "execute_result"
    }
   ],
   "source": [
    "sym.limit(sym.sin(x)/x, x, 0)"
   ]
  },
  {
   "cell_type": "markdown",
   "metadata": {},
   "source": [
    "## SymPy 很懂質數\n",
    "\n",
    "我們可以問問 `sympy`, 某個數字是不是質數?"
   ]
  },
  {
   "cell_type": "code",
   "execution_count": 24,
   "metadata": {},
   "outputs": [],
   "source": [
    "a = 170141183460469231731687303715884105727"
   ]
  },
  {
   "cell_type": "code",
   "execution_count": 25,
   "metadata": {},
   "outputs": [
    {
     "data": {
      "text/plain": [
       "True"
      ]
     },
     "execution_count": 25,
     "metadata": {},
     "output_type": "execute_result"
    }
   ],
   "source": [
    "sym.isprime(a)"
   ]
  },
  {
   "cell_type": "markdown",
   "metadata": {},
   "source": [
    "### [試驗] 梅森質數\n",
    "\n",
    "$n$ 為自然數, 梅森 (Mersenne) 數的定義為:\n",
    "\n",
    "$$M_n = 2^n -1$$\n",
    "\n",
    "如果 $M_n$ 是質數的話, 就叫梅森質數。梅森列了 $n\\leq 257$ 的梅森質數, 但錯了幾次, 比方說 $n=61$, 還有 $n=67$ 時... 我們來試試 Python 可不可以發現梅森的錯誤?"
   ]
  },
  {
   "cell_type": "code",
   "execution_count": 28,
   "metadata": {},
   "outputs": [
    {
     "name": "stdout",
     "output_type": "stream",
     "text": [
      "n = 2, m = 3 是梅森質數\n",
      "n = 3, m = 7 是梅森質數\n",
      "n = 5, m = 31 是梅森質數\n",
      "n = 7, m = 127 是梅森質數\n",
      "n = 13, m = 8191 是梅森質數\n",
      "n = 17, m = 131071 是梅森質數\n",
      "n = 19, m = 524287 是梅森質數\n",
      "n = 31, m = 2147483647 是梅森質數\n",
      "n = 61, m = 2305843009213693951 是梅森質數\n",
      "n = 89, m = 618970019642690137449562111 是梅森質數\n",
      "n = 107, m = 162259276829213363391578010288127 是梅森質數\n",
      "n = 127, m = 170141183460469231731687303715884105727 是梅森質數\n"
     ]
    }
   ],
   "source": [
    "for n in range(1, 258):\n",
    "    m = 2**n - 1\n",
    "    if sym.isprime(m):\n",
    "        print('n = {}, m = {} 是梅森質數'.format(n, m))"
   ]
  },
  {
   "cell_type": "markdown",
   "metadata": {},
   "source": [
    "梅森當時錯的是 $M_{67}, M_{257}$ 這兩個不是梅森質數的他都列了; 他還少列了 $M_{61}, M_{89}, M_{107}$ 這幾個梅森質數。結果我們用 Python 馬上可以確認!\n",
    "\n",
    "除了判斷給定的數字是不是質數, 我們還可以問問 `sympy`, 第 n 個質數是誰!"
   ]
  },
  {
   "cell_type": "code",
   "execution_count": 29,
   "metadata": {},
   "outputs": [
    {
     "data": {
      "image/png": "[encoded data removed]",
      "text/latex": [
       "$$11$$"
      ],
      "text/plain": [
       "11"
      ]
     },
     "execution_count": 29,
     "metadata": {},
     "output_type": "execute_result"
    }
   ],
   "source": [
    "sym.prime(5)"
   ]
  },
  {
   "cell_type": "markdown",
   "metadata": {},
   "source": [
    "### [試驗] 孿生質數\n",
    "\n",
    "除了那耍寶的 $(2,3)$ 之外, 「正常」質數最接近就是相差 2, 所以對於 $p>=3$, 如果\n",
    "\n",
    "    (p, p+2)\n",
    "\n",
    "都是質數, 我們會稱這兩個質數是「孿生質數」。「孿生質數」猜想是說, 孿生質數有無限多對, 大家傾向認為這是對的, 可是一直沒有人有很好的方向去思考。直到中國出生, 可以說非常傳奇的數學家張益唐證明實數間的距離不會一直增大, 而會小於七千萬, 也就是不論 $m$ 多大, 我們永遠可以找到一個 $n \\geq m$, 而\n",
    "\n",
    "$$p_{n+1} - p_{n} \\leq 7 \\times 10^7$$\n",
    "\n",
    "這看來離我們真正目標, 也就是都找得到 $n$\n",
    "\n",
    "$$p_{n+1} - p_{n} = 2$$\n",
    "\n",
    "差很多, 但這是第一次有個很好的思考方向, 之後的研究基本上是基於張益唐的思路前進。\n",
    "\n",
    "我們來試找前幾對的孿生質數!"
   ]
  },
  {
   "cell_type": "code",
   "execution_count": 31,
   "metadata": {},
   "outputs": [
    {
     "name": "stdout",
     "output_type": "stream",
     "text": [
      "(3, 5) 是孿生質數!\n",
      "(5, 7) 是孿生質數!\n",
      "(11, 13) 是孿生質數!\n",
      "(17, 19) 是孿生質數!\n",
      "(29, 31) 是孿生質數!\n",
      "(41, 43) 是孿生質數!\n",
      "(59, 61) 是孿生質數!\n",
      "(71, 73) 是孿生質數!\n",
      "(101, 103) 是孿生質數!\n",
      "(107, 109) 是孿生質數!\n",
      "(137, 139) 是孿生質數!\n",
      "(149, 151) 是孿生質數!\n",
      "(179, 181) 是孿生質數!\n",
      "(191, 193) 是孿生質數!\n",
      "(197, 199) 是孿生質數!\n",
      "(227, 229) 是孿生質數!\n",
      "(239, 241) 是孿生質數!\n",
      "(269, 271) 是孿生質數!\n",
      "(281, 283) 是孿生質數!\n",
      "(311, 313) 是孿生質數!\n",
      "(347, 349) 是孿生質數!\n",
      "(419, 421) 是孿生質數!\n",
      "(431, 433) 是孿生質數!\n",
      "(461, 463) 是孿生質數!\n",
      "(521, 523) 是孿生質數!\n"
     ]
    }
   ],
   "source": [
    "for n in range(2, 100):\n",
    "    (p, q) = sym.prime(n), sym.prime(n+1)\n",
    "    if q-p == 2:\n",
    "        print('({}, {}) 是孿生質數!'.format(p, q))"
   ]
  },
  {
   "cell_type": "markdown",
   "metadata": {},
   "source": [
    "## 為了玩耍存在的..."
   ]
  },
  {
   "cell_type": "markdown",
   "metadata": {},
   "source": [
    "請參考\n",
    "\n",
    "[質數的視覺化](https://www.fastcompany.com/1670397/infographic-visualizing-prime-numbers-for-people-who-suck-at-math)"
   ]
  },
  {
   "cell_type": "code",
   "execution_count": 78,
   "metadata": {},
   "outputs": [],
   "source": [
    "def half_circle(p, r, k, c='lightgrey'):\n",
    "    if k == 1:\n",
    "        b, t = 0, np.pi\n",
    "    else:\n",
    "        b, t = np.pi, 2*np.pi\n",
    "    θ = np.linspace(b, t, 200)\n",
    "    cx = p + r\n",
    "    plt.plot(r*np.cos(θ)+cx, r*np.sin(θ),c=c)"
   ]
  },
  {
   "cell_type": "code",
   "execution_count": 79,
   "metadata": {},
   "outputs": [],
   "source": [
    "def cont_half_circle(r, xmax):\n",
    "    k = 1\n",
    "    for p in range(1, xmax, 2*r):\n",
    "        half_circle(p, r, k)\n",
    "        k = -k"
   ]
  },
  {
   "cell_type": "code",
   "execution_count": 90,
   "metadata": {
    "scrolled": true
   },
   "outputs": [
    {
     "data": {
      "text/plain": [
       "<matplotlib.collections.PathCollection at 0x11cdae780>"
      ]
     },
     "execution_count": 90,
     "metadata": {},
     "output_type": "execute_result"
    },
    {
     "data": {
      "image/png": "[encoded data removed]",
      "text/plain": [
       "<Figure size 432x288 with 1 Axes>"
      ]
     },
     "metadata": {},
     "output_type": "display_data"
    }
   ],
   "source": [
    "xmax = 100\n",
    "\n",
    "ax = plt.gca()\n",
    "ax.set_aspect('equal')\n",
    "plt.xlim(0, xmax)\n",
    "\n",
    "for i in range(1, int(np.sqrt(xmax))+1):\n",
    "    cont_half_circle(i, xmax)\n",
    "\n",
    "plist = list(sym.primerange(1, xmax+1))\n",
    "plt.scatter(plist, np.zeros(len(plist)), c='r')\n",
    "    "
   ]
  }
 ],
 "metadata": {
  "kernelspec": {
   "display_name": "Python 3",
   "language": "python",
   "name": "python3"
  },
  "language_info": {
   "codemirror_mode": {
    "name": "ipython",
    "version": 3
   },
   "file_extension": ".py",
   "mimetype": "text/x-python",
   "name": "python",
   "nbconvert_exporter": "python",
   "pygments_lexer": "ipython3",
   "version": "3.6.5"
  }
 },
 "nbformat": 4,
 "nbformat_minor": 2
}
