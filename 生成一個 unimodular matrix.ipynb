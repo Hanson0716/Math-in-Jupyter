{
 "cells": [
  {
   "cell_type": "markdown",
   "metadata": {},
   "source": [
    "![unimodular matrix](images/unimodular_matrix.png)"
   ]
  },
  {
   "cell_type": "markdown",
   "metadata": {},
   "source": [
    "本篇的重點, 是生成一個 unimodular matrix。一個矩陣 $A$ 叫 unimodular 意思是\n",
    "\n",
    "$$\\det(A) = 1 \\mbox{ 或 } -1$$\n",
    "\n",
    "這樣的矩陣有什麼好處呢? 其中一個好處是如果 $A$ 的元素都是整數, 那反矩陣的元素也都會是整數! 像要出題目考學生求反矩陣, 答案就一定都是整數矩陣。"
   ]
  },
  {
   "cell_type": "code",
   "execution_count": 1,
   "metadata": {},
   "outputs": [],
   "source": [
    "import sympy as sp"
   ]
  },
  {
   "cell_type": "markdown",
   "metadata": {},
   "source": [
    "`sympy` 有個亂數生成矩陣的指定 `randMatrix`, 使用方法是\n",
    "\n",
    "    randMatrix(n, min=l, max=u)\n",
    "\n",
    "這樣會產生 $n \\times n$ 整數的矩陣, 然後每個元素最小是 $l$, 最大是 $u$。"
   ]
  },
  {
   "cell_type": "code",
   "execution_count": 2,
   "metadata": {},
   "outputs": [],
   "source": [
    "from sympy.matrices.dense import randMatrix"
   ]
  },
  {
   "cell_type": "code",
   "execution_count": 3,
   "metadata": {},
   "outputs": [],
   "source": [
    "sp.init_printing()"
   ]
  },
  {
   "cell_type": "markdown",
   "metadata": {},
   "source": [
    "我們試用看看:"
   ]
  },
  {
   "cell_type": "code",
   "execution_count": 4,
   "metadata": {},
   "outputs": [],
   "source": [
    "A = randMatrix(3, min=-5, max=5)"
   ]
  },
  {
   "cell_type": "code",
   "execution_count": 5,
   "metadata": {},
   "outputs": [
    {
     "data": {
      "image/png": "[encoded data removed]",
      "text/latex": [
       "$$\\left[\\begin{matrix}3 & 5 & -1\\\\-5 & -2 & -1\\\\1 & 3 & 3\\end{matrix}\\right]$$"
      ],
      "text/plain": [
       "⎡3   5   -1⎤\n",
       "⎢          ⎥\n",
       "⎢-5  -2  -1⎥\n",
       "⎢          ⎥\n",
       "⎣1   3   3 ⎦"
      ]
     },
     "execution_count": 5,
     "metadata": {},
     "output_type": "execute_result"
    }
   ],
   "source": [
    "A"
   ]
  },
  {
   "cell_type": "markdown",
   "metadata": {},
   "source": [
    "我們用的策略是這樣, 如果我們一個上三角矩陣 U, 一個下三角矩陣 L, 他們好巧的行列式值都是 1。那麼他們的乘積\n",
    "\n",
    "$$A = LU$$\n",
    "\n",
    "行列式值也會是 1, 因為\n",
    "\n",
    "$$\\det(A) = \\det(LU) = \\det(L)\\det(U) = 1$$\n",
    "\n",
    "要造一個上三角或下三角行列式值是 1 的矩陣很容易: 讓對角線的值都是 1 就好。於是我們可以這樣做:\n",
    "\n",
    "1. 用 `randMatrix` 生出一個 $n\\times n$ 的矩陣\n",
    "2. 上三角部份都給 U, 且讓 U 對角線元素都是 1\n",
    "3. 下三角部份都給 L, 且讓 L 對角線元素都是 1"
   ]
  },
  {
   "cell_type": "code",
   "execution_count": 6,
   "metadata": {},
   "outputs": [],
   "source": [
    "def generating(n):\n",
    "    A = randMatrix(n, min=-3, max=3)\n",
    "    L = sp.Matrix.eye(n)\n",
    "    U = sp.Matrix.eye(n)\n",
    "    for i in range(n):\n",
    "        for j in range(i+1, n):\n",
    "            U[i, j] = A[i, j]\n",
    "            L[j, i] = A[j, i]\n",
    "    return L, U"
   ]
  },
  {
   "cell_type": "markdown",
   "metadata": {},
   "source": [
    "來試試看我們是不是成功了:"
   ]
  },
  {
   "cell_type": "code",
   "execution_count": 7,
   "metadata": {},
   "outputs": [],
   "source": [
    "L, U = generating(4)"
   ]
  },
  {
   "cell_type": "markdown",
   "metadata": {},
   "source": [
    "這時我們只要算 LU 的乘積, 這就會是一個 unimodular matrix (事實上是行列式值為 1 的 unimodular matrix)。"
   ]
  },
  {
   "cell_type": "code",
   "execution_count": 8,
   "metadata": {},
   "outputs": [],
   "source": [
    "A = L*U"
   ]
  },
  {
   "cell_type": "code",
   "execution_count": 9,
   "metadata": {},
   "outputs": [
    {
     "data": {
      "image/png": "[encoded data removed]",
      "text/latex": [
       "$$\\left[\\begin{matrix}1 & 1 & 1 & -2\\\\-2 & -1 & -4 & 5\\\\2 & 5 & -3 & 0\\\\1 & 4 & -4 & 3\\end{matrix}\\right]$$"
      ],
      "text/plain": [
       "⎡1   1   1   -2⎤\n",
       "⎢              ⎥\n",
       "⎢-2  -1  -4  5 ⎥\n",
       "⎢              ⎥\n",
       "⎢2   5   -3  0 ⎥\n",
       "⎢              ⎥\n",
       "⎣1   4   -4  3 ⎦"
      ]
     },
     "execution_count": 9,
     "metadata": {},
     "output_type": "execute_result"
    }
   ],
   "source": [
    "A"
   ]
  },
  {
   "cell_type": "code",
   "execution_count": 10,
   "metadata": {},
   "outputs": [
    {
     "data": {
      "image/png": "[encoded data removed]",
      "text/latex": [
       "$$1$$"
      ],
      "text/plain": [
       "1"
      ]
     },
     "execution_count": 10,
     "metadata": {},
     "output_type": "execute_result"
    }
   ],
   "source": [
    "A.det()"
   ]
  },
  {
   "cell_type": "markdown",
   "metadata": {},
   "source": [
    "來看看反矩陣是不是也是個整數矩陣?"
   ]
  },
  {
   "cell_type": "code",
   "execution_count": 11,
   "metadata": {},
   "outputs": [
    {
     "data": {
      "image/png": "[encoded data removed]",
      "text/latex": [
       "$$\\left[\\begin{matrix}29 & 8 & -9 & 6\\\\-17 & -5 & 5 & -3\\\\-9 & -3 & 2 & -1\\\\1 & 0 & -1 & 1\\end{matrix}\\right]$$"
      ],
      "text/plain": [
       "⎡29   8   -9  6 ⎤\n",
       "⎢               ⎥\n",
       "⎢-17  -5  5   -3⎥\n",
       "⎢               ⎥\n",
       "⎢-9   -3  2   -1⎥\n",
       "⎢               ⎥\n",
       "⎣ 1   0   -1  1 ⎦"
      ]
     },
     "execution_count": 11,
     "metadata": {},
     "output_type": "execute_result"
    }
   ],
   "source": [
    "A.inv()"
   ]
  },
  {
   "cell_type": "markdown",
   "metadata": {},
   "source": [
    "現在看來我們真的可以亂數生成 unimodular matrix, 但問題是我們只能生出行列式值是 1 的。那行列式值是 -1 的呢? 其實很簡單, 只要把我們生出的矩陣任意交換兩列就好了!"
   ]
  },
  {
   "cell_type": "code",
   "execution_count": 12,
   "metadata": {},
   "outputs": [],
   "source": [
    "from random import sample, randint"
   ]
  },
  {
   "cell_type": "code",
   "execution_count": 13,
   "metadata": {},
   "outputs": [],
   "source": [
    "def unimodular_matrix(n):\n",
    "    L, U = generating(n)\n",
    "    A = L * U\n",
    "    if randint(0,1):\n",
    "        s, t = sample(range(n), 2)\n",
    "        tmp = A[s, :]\n",
    "        A[s,:] = A[t,:]\n",
    "        A[t,:] = tmp\n",
    "    return A"
   ]
  },
  {
   "cell_type": "markdown",
   "metadata": {},
   "source": [
    "試用一下我們最後的成果。"
   ]
  },
  {
   "cell_type": "code",
   "execution_count": 14,
   "metadata": {},
   "outputs": [],
   "source": [
    "A = unimodular_matrix(3)"
   ]
  },
  {
   "cell_type": "code",
   "execution_count": 15,
   "metadata": {},
   "outputs": [
    {
     "data": {
      "image/png": "[encoded data removed]",
      "text/latex": [
       "$$-1$$"
      ],
      "text/plain": [
       "-1"
      ]
     },
     "execution_count": 15,
     "metadata": {},
     "output_type": "execute_result"
    }
   ],
   "source": [
    "A.det()"
   ]
  },
  {
   "cell_type": "code",
   "execution_count": 16,
   "metadata": {},
   "outputs": [
    {
     "data": {
      "image/png": "[encoded data removed]",
      "text/latex": [
       "$$\\left[\\begin{matrix}1 & 2 & 0\\\\-5 & -5 & 3\\\\-2 & -2 & 1\\end{matrix}\\right]$$"
      ],
      "text/plain": [
       "⎡1   2   0⎤\n",
       "⎢         ⎥\n",
       "⎢-5  -5  3⎥\n",
       "⎢         ⎥\n",
       "⎣-2  -2  1⎦"
      ]
     },
     "execution_count": 16,
     "metadata": {},
     "output_type": "execute_result"
    }
   ],
   "source": [
    "A.inv()"
   ]
  },
  {
   "cell_type": "markdown",
   "metadata": {},
   "source": [
    "再試一次, 看有沒有可能生出行列式值是 -1 的。"
   ]
  },
  {
   "cell_type": "code",
   "execution_count": 17,
   "metadata": {},
   "outputs": [],
   "source": [
    "A = unimodular_matrix(3)"
   ]
  },
  {
   "cell_type": "code",
   "execution_count": 18,
   "metadata": {},
   "outputs": [
    {
     "data": {
      "image/png": "[encoded data removed]",
      "text/latex": [
       "$$1$$"
      ],
      "text/plain": [
       "1"
      ]
     },
     "execution_count": 18,
     "metadata": {},
     "output_type": "execute_result"
    }
   ],
   "source": [
    "A.det()"
   ]
  },
  {
   "cell_type": "code",
   "execution_count": 19,
   "metadata": {},
   "outputs": [
    {
     "data": {
      "image/png": "[encoded data removed]",
      "text/latex": [
       "$$\\left[\\begin{matrix}34 & -15 & -6\\\\4 & -2 & -1\\\\-7 & 3 & 1\\end{matrix}\\right]$$"
      ],
      "text/plain": [
       "⎡34  -15  -6⎤\n",
       "⎢           ⎥\n",
       "⎢4   -2   -1⎥\n",
       "⎢           ⎥\n",
       "⎣-7   3   1 ⎦"
      ]
     },
     "execution_count": 19,
     "metadata": {},
     "output_type": "execute_result"
    }
   ],
   "source": [
    "A.inv()"
   ]
  }
 ],
 "metadata": {
  "kernelspec": {
   "display_name": "Python 3",
   "language": "python",
   "name": "python3"
  },
  "language_info": {
   "codemirror_mode": {
    "name": "ipython",
    "version": 3
   },
   "file_extension": ".py",
   "mimetype": "text/x-python",
   "name": "python",
   "nbconvert_exporter": "python",
   "pygments_lexer": "ipython3",
   "version": "3.7.3"
  }
 },
 "nbformat": 4,
 "nbformat_minor": 2
}
