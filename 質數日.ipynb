{
  "cells": [
    {
      "cell_type": "code",
      "source": [
        "import sympy as sp"
      ],
      "outputs": [],
      "execution_count": 1,
      "metadata": {
        "collapsed": false,
        "outputHidden": false,
        "inputHidden": false
      }
    },
    {
      "cell_type": "code",
      "source": [
        "sp.isprime(20190823)"
      ],
      "outputs": [
        {
          "output_type": "execute_result",
          "execution_count": 2,
          "data": {
            "text/plain": [
              "True"
            ]
          },
          "metadata": {}
        }
      ],
      "execution_count": 2,
      "metadata": {
        "collapsed": false,
        "outputHidden": false,
        "inputHidden": false
      }
    },
    {
      "cell_type": "code",
      "source": [
        "p0 = [3, 5, 7]"
      ],
      "outputs": [],
      "execution_count": 3,
      "metadata": {
        "collapsed": false,
        "outputHidden": false,
        "inputHidden": false
      }
    },
    {
      "cell_type": "code",
      "source": [
        "p0 = [3, 7, 13, 17, 23]"
      ],
      "outputs": [],
      "execution_count": 7,
      "metadata": {
        "collapsed": false,
        "outputHidden": false,
        "inputHidden": false
      }
    },
    {
      "cell_type": "code",
      "source": [],
      "outputs": [],
      "execution_count": 14,
      "metadata": {
        "collapsed": false,
        "outputHidden": false,
        "inputHidden": false
      }
    },
    {
      "cell_type": "code",
      "source": [
        "year =[]\n",
        "for m in range(1, 13):\n",
        "    for k in p0:\n",
        "        p = m*100 + k\n",
        "        if sp.isprime(p):\n",
        "            print(p)\n",
        "            year.append(p)"
      ],
      "outputs": [
        {
          "output_type": "stream",
          "name": "stdout",
          "text": [
            "103\n",
            "107\n",
            "113\n",
            "223\n",
            "307\n",
            "313\n",
            "317\n",
            "503\n",
            "523\n",
            "607\n",
            "613\n",
            "617\n",
            "823\n",
            "907\n",
            "1013\n",
            "1103\n",
            "1117\n",
            "1123\n",
            "1213\n",
            "1217\n",
            "1223\n"
          ]
        }
      ],
      "execution_count": 20,
      "metadata": {
        "collapsed": false,
        "outputHidden": false,
        "inputHidden": false
      }
    },
    {
      "cell_type": "code",
      "source": [
        "len(year)"
      ],
      "outputs": [
        {
          "output_type": "execute_result",
          "execution_count": 22,
          "data": {
            "text/plain": [
              "21"
            ]
          },
          "metadata": {}
        }
      ],
      "execution_count": 22,
      "metadata": {
        "collapsed": false,
        "outputHidden": false,
        "inputHidden": false
      }
    },
    {
      "cell_type": "code",
      "source": [
        "year0 = []\n",
        "\n",
        "for i in range(10):\n",
        "    for k in year:\n",
        "        p = i*10000 + k\n",
        "        if sp.isprime(p):\n",
        "            year0.append(p)"
      ],
      "outputs": [],
      "execution_count": 25,
      "metadata": {
        "collapsed": false,
        "outputHidden": false,
        "inputHidden": false
      }
    },
    {
      "cell_type": "code",
      "source": [
        "year1 = []\n",
        "\n",
        "for i in range(10):\n",
        "    for k in year0:\n",
        "        p = i*100000 + k\n",
        "        if sp.isprime(p):\n",
        "            year1.append(p)"
      ],
      "outputs": [],
      "execution_count": 26,
      "metadata": {
        "collapsed": false,
        "outputHidden": false,
        "inputHidden": false
      }
    },
    {
      "cell_type": "code",
      "source": [
        "len(year1)"
      ],
      "outputs": [
        {
          "output_type": "execute_result",
          "execution_count": 29,
          "data": {
            "text/plain": [
              "181"
            ]
          },
          "metadata": {}
        }
      ],
      "execution_count": 29,
      "metadata": {
        "collapsed": false,
        "outputHidden": false,
        "inputHidden": false
      }
    },
    {
      "cell_type": "code",
      "source": [
        "year2 = []\n",
        "\n",
        "for i in range(10):\n",
        "    for k in year1:\n",
        "        p = i*1000000 + k\n",
        "        if sp.isprime(p):\n",
        "            year2.append(p)"
      ],
      "outputs": [],
      "execution_count": 30,
      "metadata": {
        "collapsed": false,
        "outputHidden": false,
        "inputHidden": false
      }
    },
    {
      "cell_type": "code",
      "source": [
        "len(year2)"
      ],
      "outputs": [
        {
          "output_type": "execute_result",
          "execution_count": 31,
          "data": {
            "text/plain": [
              "435"
            ]
          },
          "metadata": {}
        }
      ],
      "execution_count": 31,
      "metadata": {
        "collapsed": false,
        "outputHidden": false,
        "inputHidden": false
      }
    },
    {
      "cell_type": "code",
      "source": [
        "year3 = []\n",
        "\n",
        "for i in range(2, 5):\n",
        "    for k in year2:\n",
        "        p = i*10000000 + k\n",
        "        if sp.isprime(p):\n",
        "            year3.append(p)"
      ],
      "outputs": [],
      "execution_count": 33,
      "metadata": {
        "collapsed": false,
        "outputHidden": false,
        "inputHidden": false
      }
    },
    {
      "cell_type": "code",
      "source": [
        "year3"
      ],
      "outputs": [
        {
          "output_type": "execute_result",
          "execution_count": 34,
          "data": {
            "text/plain": [
              "[20000107,\n",
              " 20000503,\n",
              " 20001217,\n",
              " 20010223,\n",
              " 20010313,\n",
              " 20031223,\n",
              " 20041213,\n",
              " 20060107,\n",
              " 20070823,\n",
              " 20100907,\n",
              " 20130223,\n",
              " 20190523,\n",
              " 20190823,\n",
              " 20300317,\n",
              " 20360317,\n",
              " 20400307,\n",
              " 20400823,\n",
              " 20480107,\n",
              " 20600317,\n",
              " 20660617,\n",
              " 20700103,\n",
              " 20700223,\n",
              " 20700307,\n",
              " 20700523,\n",
              " 20721013,\n",
              " 20910103,\n",
              " 20930113,\n",
              " 21000313,\n",
              " 21000907,\n",
              " 21050503,\n",
              " 21320107,\n",
              " 21330313,\n",
              " 21360223,\n",
              " 21870223,\n",
              " 21890107,\n",
              " 21990523,\n",
              " 23000617,\n",
              " 23010313,\n",
              " 23011117,\n",
              " 23100313,\n",
              " 23970313,\n",
              " 24021013,\n",
              " 24050503,\n",
              " 24090907,\n",
              " 24270223,\n",
              " 24350503,\n",
              " 24501223,\n",
              " 24900307,\n",
              " 24901213,\n",
              " 26001013,\n",
              " 26070313,\n",
              " 26150503,\n",
              " 26190313,\n",
              " 26931013,\n",
              " 27020113,\n",
              " 27080107,\n",
              " 29101117,\n",
              " 29331013,\n",
              " 30000307,\n",
              " 30000317,\n",
              " 30001123,\n",
              " 30010103,\n",
              " 30030307,\n",
              " 30031223,\n",
              " 30061223,\n",
              " 30070823,\n",
              " 30080107,\n",
              " 30080317,\n",
              " 30090107,\n",
              " 30090617,\n",
              " 30301013,\n",
              " 30360223,\n",
              " 30400523,\n",
              " 30450503,\n",
              " 30500317,\n",
              " 30501223,\n",
              " 30511213,\n",
              " 30560617,\n",
              " 30611213,\n",
              " 30630307,\n",
              " 30641213,\n",
              " 30660103,\n",
              " 30670823,\n",
              " 30680107,\n",
              " 30800113,\n",
              " 30810223,\n",
              " 30870223,\n",
              " 30890107,\n",
              " 30900607,\n",
              " 30921013,\n",
              " 30990313,\n",
              " 30990523,\n",
              " 31000313,\n",
              " 31060223,\n",
              " 31500113,\n",
              " 31540823,\n",
              " 31921013,\n",
              " 32000113,\n",
              " 32190523,\n",
              " 32701117,\n",
              " 32970313,\n",
              " 33000103,\n",
              " 33000223,\n",
              " 33011117,\n",
              " 33011213,\n",
              " 33060107,\n",
              " 33100313,\n",
              " 33290107,\n",
              " 33300823,\n",
              " 33381223,\n",
              " 33400823,\n",
              " 33510613,\n",
              " 33660607,\n",
              " 33901013,\n",
              " 34000907,\n",
              " 34001117,\n",
              " 34081013,\n",
              " 34090907,\n",
              " 34330103,\n",
              " 34501223,\n",
              " 34990313,\n",
              " 35060317,\n",
              " 35070823,\n",
              " 36000317,\n",
              " 36000823,\n",
              " 36100613,\n",
              " 36100907,\n",
              " 36190313,\n",
              " 36450503,\n",
              " 36480107,\n",
              " 36501217,\n",
              " 36510613,\n",
              " 36631223,\n",
              " 37001123,\n",
              " 37001213,\n",
              " 37860107,\n",
              " 37870823,\n",
              " 38480107,\n",
              " 38910103,\n",
              " 38941117,\n",
              " 39000223,\n",
              " 39011117,\n",
              " 39060607,\n",
              " 39070223,\n",
              " 39351217,\n",
              " 39660617,\n",
              " 39670823,\n",
              " 39701117,\n",
              " 40000223,\n",
              " 40000313,\n",
              " 40000523,\n",
              " 40030103,\n",
              " 40030313,\n",
              " 40080107,\n",
              " 40080317,\n",
              " 40301123,\n",
              " 40320113,\n",
              " 40330313,\n",
              " 40500107,\n",
              " 40511213,\n",
              " 40540823,\n",
              " 40800113,\n",
              " 40920107,\n",
              " 42000107,\n",
              " 42000503,\n",
              " 42070823,\n",
              " 42190523,\n",
              " 42701117,\n",
              " 42930113,\n",
              " 42970313,\n",
              " 43000523,\n",
              " 43081223,\n",
              " 43211213,\n",
              " 43381223,\n",
              " 43510613,\n",
              " 43560107,\n",
              " 43860317,\n",
              " 45700307,\n",
              " 45760103,\n",
              " 46000103,\n",
              " 46000307,\n",
              " 46290617,\n",
              " 46500317,\n",
              " 48121013,\n",
              " 48190823,\n",
              " 48400823,\n",
              " 48941117,\n",
              " 49000223,\n",
              " 49020113,\n",
              " 49080107,\n",
              " 49501013]"
            ]
          },
          "metadata": {}
        }
      ],
      "execution_count": 34,
      "metadata": {
        "collapsed": false,
        "outputHidden": false,
        "inputHidden": false
      }
    },
    {
      "cell_type": "code",
      "source": [
        "def prime_day(day):\n",
        "    for i in range(len(day)):\n",
        "        d = day[i:]\n",
        "        if sp.isprime(int(d)):\n",
        "            c = \"質數\"\n",
        "        else:\n",
        "            c = \"不是質數\"\n",
        "        print(f\"{d:>8s} → {c}\")"
      ],
      "outputs": [],
      "execution_count": 46,
      "metadata": {
        "collapsed": false,
        "outputHidden": false,
        "inputHidden": false
      }
    },
    {
      "cell_type": "code",
      "source": [
        "prime_day(\"20190823\")"
      ],
      "outputs": [
        {
          "output_type": "stream",
          "name": "stdout",
          "text": [
            "20190823 → 質數\n",
            " 0190823 → 質數\n",
            "  190823 → 質數\n",
            "   90823 → 質數\n",
            "    0823 → 質數\n",
            "     823 → 質數\n",
            "      23 → 質數\n",
            "       3 → 質數\n"
          ]
        }
      ],
      "execution_count": 47,
      "metadata": {
        "collapsed": false,
        "outputHidden": false,
        "inputHidden": false
      }
    },
    {
      "cell_type": "code",
      "source": [
        "prime_day(\"20190523\")"
      ],
      "outputs": [
        {
          "output_type": "stream",
          "name": "stdout",
          "text": [
            "20190523 → 質數\n",
            " 0190523 → 質數\n",
            "  190523 → 質數\n",
            "   90523 → 質數\n",
            "    0523 → 質數\n",
            "     523 → 質數\n",
            "      23 → 質數\n",
            "       3 → 質數\n"
          ]
        }
      ],
      "execution_count": 48,
      "metadata": {
        "collapsed": false,
        "outputHidden": false,
        "inputHidden": false
      }
    },
    {
      "cell_type": "code",
      "source": [
        "prime_day(\"20300317\")"
      ],
      "outputs": [
        {
          "output_type": "stream",
          "name": "stdout",
          "text": [
            "20300317 → 質數\n",
            " 0300317 → 質數\n",
            "  300317 → 質數\n",
            "   00317 → 質數\n",
            "    0317 → 質數\n",
            "     317 → 質數\n",
            "      17 → 質數\n",
            "       7 → 質數\n"
          ]
        }
      ],
      "execution_count": 49,
      "metadata": {
        "collapsed": false,
        "outputHidden": false,
        "inputHidden": false
      }
    },
    {
      "cell_type": "code",
      "source": [
        "century = year3[:27]"
      ],
      "outputs": [],
      "execution_count": 56,
      "metadata": {
        "collapsed": false,
        "outputHidden": false,
        "inputHidden": false
      }
    },
    {
      "cell_type": "code",
      "source": [
        "len(century)"
      ],
      "outputs": [
        {
          "output_type": "execute_result",
          "execution_count": 57,
          "data": {
            "text/plain": [
              "27"
            ]
          },
          "metadata": {}
        }
      ],
      "execution_count": 57,
      "metadata": {
        "collapsed": false,
        "outputHidden": false,
        "inputHidden": false
      }
    },
    {
      "cell_type": "code",
      "source": [
        "for i, y in enumerate(century, 1):\n",
        "    print(i, y)"
      ],
      "outputs": [
        {
          "output_type": "stream",
          "name": "stdout",
          "text": [
            "1 20000107\n",
            "2 20000503\n",
            "3 20001217\n",
            "4 20010223\n",
            "5 20010313\n",
            "6 20031223\n",
            "7 20041213\n",
            "8 20060107\n",
            "9 20070823\n",
            "10 20100907\n",
            "11 20130223\n",
            "12 20190523\n",
            "13 20190823\n",
            "14 20300317\n",
            "15 20360317\n",
            "16 20400307\n",
            "17 20400823\n",
            "18 20480107\n",
            "19 20600317\n",
            "20 20660617\n",
            "21 20700103\n",
            "22 20700223\n",
            "23 20700307\n",
            "24 20700523\n",
            "25 20721013\n",
            "26 20910103\n",
            "27 20930113\n"
          ]
        }
      ],
      "execution_count": 58,
      "metadata": {
        "collapsed": false,
        "outputHidden": false,
        "inputHidden": false
      }
    },
    {
      "cell_type": "code",
      "source": [
        "for y in century:\n",
        "    if '0823' in str(y):\n",
        "        print(y)"
      ],
      "outputs": [
        {
          "output_type": "stream",
          "name": "stdout",
          "text": [
            "20070823\n",
            "20190823\n",
            "20400823\n"
          ]
        }
      ],
      "execution_count": 59,
      "metadata": {
        "collapsed": false,
        "outputHidden": false,
        "inputHidden": false
      }
    },
    {
      "cell_type": "code",
      "source": [],
      "outputs": [],
      "execution_count": null,
      "metadata": {
        "collapsed": false,
        "outputHidden": false,
        "inputHidden": false
      }
    }
  ],
  "metadata": {
    "kernel_info": {
      "name": "python3"
    },
    "language_info": {
      "name": "python",
      "version": "3.7.3",
      "mimetype": "text/x-python",
      "codemirror_mode": {
        "name": "ipython",
        "version": 3
      },
      "pygments_lexer": "ipython3",
      "nbconvert_exporter": "python",
      "file_extension": ".py"
    },
    "kernelspec": {
      "name": "python3",
      "language": "python",
      "display_name": "Python 3"
    },
    "nteract": {
      "version": "0.14.5"
    }
  },
  "nbformat": 4,
  "nbformat_minor": 0
}