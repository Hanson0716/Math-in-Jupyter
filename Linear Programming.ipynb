{
 "cells": [
  {
   "cell_type": "markdown",
   "metadata": {},
   "source": [
    "# Linear Programming\n",
    "\n",
    "### Python 3 + PuLP\n",
    "\n",
    "![Linear Programming](images/lp.png)\n",
    "\n",
    "Anaconda 的 Python distribution。然後用\n",
    "\n",
    "    pip install pulp\n",
    "    \n",
    "安裝 PuLP。再來我們安裝 GLPK 這個用來算 Linear Programming 的程式。\n",
    "\n",
    "    brew install homebrew/science/glpk\n",
    "    \n",
    "然後裝 swig, 說實在我不確定是不是非要裝不可, 但[這篇有裝](http://blog.ducky.io/python/2013/07/01/Installing-Python-glpk/)所以我也裝了。\n",
    "\n",
    "    brew install swig"
   ]
  },
  {
   "cell_type": "markdown",
   "metadata": {},
   "source": [
    "## 簡介\n",
    "\n",
    "線性規畫就是我們在某些線性的限制式下, 要求某個線性式子的極大 (或極小) 值。\n",
    "\n",
    "標準的問題大概像這樣, 這題是 Kolman and Hill 的 \"Elementary Linear Algebra with Applications\" 裡面的例題。\n",
    "\n",
    "我們想把 $w = 4x + 8y + 5z\" 極大化。\n",
    "\n",
    "限制式是\n",
    "\n",
    "$$\\begin{align*}\n",
    "x + 2y + 3z \\leq 18 \\\\\n",
    "x + 4y + z \\leq 6 \\\\\n",
    "2x + 6y + 4z \\leq 15\n",
    "\\end{align*}$$\n",
    "\n",
    "且\n",
    "\n",
    "$$ x\\geq 0, y\\geq 0, z\\geq 0$$"
   ]
  },
  {
   "cell_type": "markdown",
   "metadata": {},
   "source": [
    "## 實際計算\n",
    "\n",
    "使用 PuLP, 專門解線性規畫問題的套件。"
   ]
  },
  {
   "cell_type": "code",
   "execution_count": 1,
   "metadata": {
    "collapsed": false
   },
   "outputs": [],
   "source": [
    "from pulp import *"
   ]
  },
  {
   "cell_type": "markdown",
   "metadata": {},
   "source": [
    "### 開個問題\n",
    "\n",
    "和很多科學套件一樣, 我們先開個問題物件, 我們可以指定:\n",
    "    \n",
    "* `LpMaximize`: 取極大\n",
    "* `LpMinimize`: 取極小"
   ]
  },
  {
   "cell_type": "code",
   "execution_count": 2,
   "metadata": {
    "collapsed": true
   },
   "outputs": [],
   "source": [
    "prob = LpProblem(\"example1\", LpMaximize)"
   ]
  },
  {
   "cell_type": "markdown",
   "metadata": {},
   "source": [
    "### 設定變數\n",
    "\n",
    "設定我們要用的變數, 還可以設最小值 (這裡我們設成 0)。事實上還可以設最大值, 甚至要求是整數!"
   ]
  },
  {
   "cell_type": "code",
   "execution_count": 3,
   "metadata": {
    "collapsed": true
   },
   "outputs": [],
   "source": [
    "x = LpVariable(\"x\", 0)\n",
    "y = LpVariable(\"y\", 0)\n",
    "z = LpVariable(\"z\", 0)"
   ]
  },
  {
   "cell_type": "markdown",
   "metadata": {},
   "source": [
    "### 目標函數\n",
    "\n",
    "我們現在就是把目函數、限制式一一放入我們的 problem 中。首先是要極大化的式子。\n",
    "\n",
    "$$4x + 8y + 5z$$"
   ]
  },
  {
   "cell_type": "code",
   "execution_count": 4,
   "metadata": {
    "collapsed": false
   },
   "outputs": [],
   "source": [
    "prob += 4*x + 8*y + 5*z"
   ]
  },
  {
   "cell_type": "markdown",
   "metadata": {},
   "source": [
    "### 限制\n",
    "\n",
    "再來是我們三條限制式:\n",
    "\n",
    "$$\\begin{align*}\n",
    "x + 2y + 3z \\leq 18 \\\\\n",
    "x + 4y + z \\leq 6 \\\\\n",
    "2x + 6y + 4z \\leq 15\n",
    "\\end{align*}$$"
   ]
  },
  {
   "cell_type": "code",
   "execution_count": 5,
   "metadata": {
    "collapsed": true
   },
   "outputs": [],
   "source": [
    "prob += x + 2*y + 3*z <= 18\n",
    "prob += x + 4*y + z <= 6\n",
    "prob += 2*x + 6*y + 4*z <= 15"
   ]
  },
  {
   "cell_type": "markdown",
   "metadata": {},
   "source": [
    "### 用 GLPK 套件算一下"
   ]
  },
  {
   "cell_type": "code",
   "execution_count": 6,
   "metadata": {
    "collapsed": false
   },
   "outputs": [
    {
     "data": {
      "text/plain": [
       "1"
      ]
     },
     "execution_count": 6,
     "metadata": {},
     "output_type": "execute_result"
    }
   ],
   "source": [
    "GLPK().solve(prob)"
   ]
  },
  {
   "cell_type": "markdown",
   "metadata": {},
   "source": [
    "### 結果列出來"
   ]
  },
  {
   "cell_type": "code",
   "execution_count": 7,
   "metadata": {
    "collapsed": false
   },
   "outputs": [
    {
     "name": "stdout",
     "output_type": "stream",
     "text": [
      "x=4.5\n",
      "y=0.0\n",
      "z=1.5\n"
     ]
    }
   ],
   "source": [
    "for v in prob.variables():\n",
    "    print (v.name + \"=\" + str(v.varValue))"
   ]
  },
  {
   "cell_type": "code",
   "execution_count": 8,
   "metadata": {
    "collapsed": false
   },
   "outputs": [
    {
     "name": "stdout",
     "output_type": "stream",
     "text": [
      "objective=25.5\n"
     ]
    }
   ],
   "source": [
    "print(\"objective=\"+str(value(prob.objective)))"
   ]
  },
  {
   "cell_type": "markdown",
   "metadata": {},
   "source": [
    "## 整數規畫\n",
    "\n",
    "同樣的問題, 我們要求解一定要整數可以嗎, 我們來試試。"
   ]
  },
  {
   "cell_type": "code",
   "execution_count": 9,
   "metadata": {
    "collapsed": true
   },
   "outputs": [],
   "source": [
    "prob = LpProblem(\"example of integer programming\", LpMaximize)"
   ]
  },
  {
   "cell_type": "markdown",
   "metadata": {},
   "source": [
    "### 只有設變數時要指定是整數!"
   ]
  },
  {
   "cell_type": "code",
   "execution_count": 10,
   "metadata": {
    "collapsed": true
   },
   "outputs": [],
   "source": [
    "x = LpVariable(\"x\", lowBound=0, cat=\"Integer\")\n",
    "y = LpVariable(\"y\", lowBound=0, cat=\"Integer\")\n",
    "z = LpVariable(\"z\", lowBound=0, cat=\"Integer\")"
   ]
  },
  {
   "cell_type": "markdown",
   "metadata": {},
   "source": [
    "### 其他部份是完全一樣的"
   ]
  },
  {
   "cell_type": "code",
   "execution_count": 11,
   "metadata": {
    "collapsed": true
   },
   "outputs": [],
   "source": [
    "prob += 4*x + 8*y + 5*z"
   ]
  },
  {
   "cell_type": "code",
   "execution_count": 12,
   "metadata": {
    "collapsed": true
   },
   "outputs": [],
   "source": [
    "prob += x + 2*y + 3*z <= 18\n",
    "prob += x + 4*y + z <= 6\n",
    "prob += 2*x + 6*y + 4*z <= 15"
   ]
  },
  {
   "cell_type": "code",
   "execution_count": 13,
   "metadata": {
    "collapsed": false
   },
   "outputs": [
    {
     "data": {
      "text/plain": [
       "1"
      ]
     },
     "execution_count": 13,
     "metadata": {},
     "output_type": "execute_result"
    }
   ],
   "source": [
    "GLPK().solve(prob)"
   ]
  },
  {
   "cell_type": "code",
   "execution_count": 14,
   "metadata": {
    "collapsed": false
   },
   "outputs": [
    {
     "name": "stdout",
     "output_type": "stream",
     "text": [
      "x=5\n",
      "y=0\n",
      "z=1\n"
     ]
    }
   ],
   "source": [
    "for v in prob.variables():\n",
    "    print (v.name + \"=\" + str(v.varValue))"
   ]
  },
  {
   "cell_type": "code",
   "execution_count": 15,
   "metadata": {
    "collapsed": false
   },
   "outputs": [
    {
     "name": "stdout",
     "output_type": "stream",
     "text": [
      "objective=25\n"
     ]
    }
   ],
   "source": [
    "print(\"objective=\"+str(value(prob.objective)))"
   ]
  }
 ],
 "metadata": {
  "kernelspec": {
   "display_name": "Python 3",
   "language": "python",
   "name": "python3"
  },
  "language_info": {
   "codemirror_mode": {
    "name": "ipython",
    "version": 3
   },
   "file_extension": ".py",
   "mimetype": "text/x-python",
   "name": "python",
   "nbconvert_exporter": "python",
   "pygments_lexer": "ipython3",
   "version": "3.4.3"
  }
 },
 "nbformat": 4,
 "nbformat_minor": 0
}
